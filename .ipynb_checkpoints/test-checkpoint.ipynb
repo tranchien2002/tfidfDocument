{
 "cells": [
  {
   "cell_type": "code",
   "execution_count": null,
   "metadata": {},
   "outputs": [],
   "source": [
    "# -*- coding: utf-8 -*-\n",
    "import Mongodb as mongo\n",
    "from sklearn.metrics.pairwise import cosine_similarity\n",
    "from sklearn.feature_extraction.text import TfidfVectorizer\n",
    "from document2json import pickle_json, cosine_json\n",
    "from bson.objectid import ObjectId\n",
    "import pdb\n",
    "docs_col = mongo.get_colection(\"documents\")\n",
    "test_col = mongo.get_colection(\"tfidfTest\")\n"
   ]
  },
  {
   "cell_type": "code",
   "execution_count": null,
   "metadata": {},
   "outputs": [],
   "source": [
    "docs_en = docs_col.find({\"lang\": \"english\"})\n",
    "test_trans = test_col.find({})\n",
    "    for item in test_trans:\n",
    "        print(item['title'])\n",
    "        list_computed = get_topn_similarity(item['content'], docs_en, 3)\n",
    "        list_details = get_detail_docs(list_computed)\n",
    "        for i in list_details:\n",
    "            print(i['title'])\n",
    "        print(\"=======================================\")"
   ]
  }
 ],
 "metadata": {
  "kernelspec": {
   "display_name": "Python 3",
   "language": "python",
   "name": "python3"
  },
  "language_info": {
   "codemirror_mode": {
    "name": "ipython",
    "version": 3
   },
   "file_extension": ".py",
   "mimetype": "text/x-python",
   "name": "python",
   "nbconvert_exporter": "python",
   "pygments_lexer": "ipython3",
   "version": "3.6.7"
  }
 },
 "nbformat": 4,
 "nbformat_minor": 2
}
